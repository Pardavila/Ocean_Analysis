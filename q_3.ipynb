{
 "cells": [
  {
   "cell_type": "markdown",
   "metadata": {},
   "source": [
    "Vertical profiles of annual mean T,S,DIN,Chl-a for the full depth of the\n",
    "water column using linear z-axis and logarithmic axis.\n"
   ]
  },
  {
   "cell_type": "code",
   "execution_count": 1,
   "metadata": {
    "collapsed": true
   },
   "outputs": [],
   "source": [
    "#import modules \n",
    "%matplotlib notebook \n",
    "import numpy as np\n",
    "import numpy.ma as ma\n",
    "import netCDF4 as nc4\n",
    "from netCDF4 import Dataset\n",
    "import matplotlib.pyplot as plt\n",
    "from matplotlib import gridspec\n",
    "import matplotlib.colors as colors\n",
    "from matplotlib import colors, ticker, cm\n",
    "import matplotlib.patches as mpatches\n",
    "import cartopy as cart\n",
    "from mpl_toolkits.basemap import Basemap\n",
    "import xarray as xrr\n",
    "from numpy.ma import masked_where"
   ]
  },
  {
   "cell_type": "code",
   "execution_count": 3,
   "metadata": {
    "collapsed": true
   },
   "outputs": [],
   "source": [
    "#load in monthly T and S data from 2005:\n",
    "m_list = ['01', '02', '03', '04', '05', '06', '07', '08', '09', '10', '11', '12']\n",
    "T=np.zeros((75,120,180,12))\n",
    "S=np.zeros((75,120,180,12))\n",
    "va=0  \n",
    "for m in m_list:\n",
    "    fyd=nc4.Dataset('/group_workspaces/jasmin2/nemo/vol1/ORCA0083-N006/means/2005/ORCA0083-N06_2005m'+str(m)+'T.nc','r',format='NETCDF4')\n",
    "    T_=fyd.variables['potemp'][0,:,1373:1493,3865:4045]\n",
    "    T[:,:,:,va]=T_\n",
    "    S_=fyd.variables['salin'][0,:,1373:1493,3865:4045]\n",
    "    S[:,:,:,va]=S_\n",
    "    va=va+1\n",
    "    \n",
    "T[np.abs(T) > 3000.] = np.nan \n",
    "T[T == 0.] = np.nan \n",
    "S[np.abs(S) > 3000.] = np.nan \n",
    "S[S == 0.] = np.nan \n",
    "\n",
    "#load in monthly DIN and Chl-a data from 2005:\n",
    "\n",
    "m_list = ['01', '02', '03', '04', '05', '06', '07', '08', '09', '10', '11', '12']\n",
    "DIN=np.zeros((75,120,180,12))\n",
    "CHN=np.zeros((75,120,180,12))\n",
    "CHD=np.zeros((75,120,180,12))\n",
    "va=0\n",
    " \n",
    "for m in m_list:\n",
    "    fyd=nc4.Dataset('/group_workspaces/jasmin2/nemo/vol1/ORCA0083-N006/medusa/2005/ORCA0083-N06_2005m'+str(m)+'P.nc','r',format='NETCDF4')\n",
    "    DIN_=fyd.variables['DIN'][0,:,1373:1493,3865:4045]\n",
    "    DIN[:,:,:,va]=DIN_\n",
    "    CHN_=fyd.variables['CHN'][0,:,1373:1493,3865:4045]\n",
    "    CHN[:,:,:,va]=CHN_\n",
    "    CHD_=fyd.variables['CHD'][0,:,1373:1493,3865:4045]\n",
    "    CHD[:,:,:,va]=CHD_\n",
    "    va=va+1\n",
    "    \n",
    "DIN[np.abs(DIN) > 3000.] = np.nan \n",
    "DIN[DIN == 0.] = np.nan \n",
    "CHN[np.abs(CHN) > 3000.] = np.nan \n",
    "CHN[CHN == 0.] = np.nan \n",
    "CHD[np.abs(CHD) > 3000.] = np.nan \n",
    "CHD[CHD == 0.] = np.nan \n",
    "\n",
    "CHL_a=CHN+CHD\n",
    "  \n",
    "latS=fyd.variables['nav_lat'][1373:1493,3865:4045]       \n",
    "lonS=fyd.variables['nav_lon'][1373:1493,3865:4045] \n",
    "depth=fyd.variables['deptht'][:]"
   ]
  },
  {
   "cell_type": "code",
   "execution_count": 4,
   "metadata": {
    "collapsed": true
   },
   "outputs": [],
   "source": [
    "#load in bathymetry \n",
    "fyd=nc4.Dataset('/group_workspaces/jasmin2/nemo/vol1/ORCA0083-N006/domain/bathymetry_ORCA12_V3.3.nc','r',format='NETCDF4')#bathy=fyd.variables['Bathymetry'][1373:1493,3865:4045]\n",
    "#load in mask and set land to = 1 and ocean = masked for land contour.\n",
    "fyd=nc4.Dataset('/group_workspaces/jasmin2/nemo/vol1/ORCA0083-N006/domain/mask.nc','r',format='NETCDF4')\n",
    "mask=fyd.variables['tmask'][0,0,1373:1493,3865:4045]\n",
    "maskc=mask\n",
    "mask = masked_where(np.abs(mask) > 0, mask)\n",
    "mask[mask == 0] = 1\n"
   ]
  },
  {
   "cell_type": "code",
   "execution_count": null,
   "metadata": {},
   "outputs": [],
   "source": [
    "#Annual means \n",
    "T_m=np.nanmean(T,axis=(3))\n",
    "T_mm=np.nanmean(T_m,axis=(1,2))\n",
    "S_m=np.nanmean(S,axis=(1,2,3))\n",
    "DIN_m=np.nanmean(DIN,axis=(1,2,3))\n",
    "CHL_a_m=np.nanmean(CHL_a,axis=(1,2,3))"
   ]
  },
  {
   "cell_type": "markdown",
   "metadata": {},
   "source": [
    "Vertical T profile (linear and log)"
   ]
  },
  {
   "cell_type": "code",
   "execution_count": null,
   "metadata": {},
   "outputs": [],
   "source": [
    "#Vertical Profile of Annual Mean Temperature.\n",
    "fig, ax = plt.subplots()\n",
    "#plt.figure(figsize=(7, 5))\n",
    "plt.subplot\n",
    "\n",
    "ticks=[28,26,24,22,20,18,16,14,12,10,8,6,4,2,0]\n",
    "\n",
    "P1 = plt.plot(T_mm,-depth)#np.arange(low, high, ran))\n",
    "plt.title\n",
    "ax.xaxis.tick_top()\n",
    "ax.xaxis.set_label_position('top') #set_position(pos='top')\n",
    "plt.xticks(np.arange(0,30,3))\n",
    "plt.yticks(np.arange(-5500,0,500))\n",
    "#plt.title('Vertical profile Annual Mean Temperature - 2005')\n",
    "figure_title = ' T Vertical profile'\n",
    "plt.text(15, -5000,figure_title,horizontalalignment='center',fontsize=15)\n",
    "plt.ylim((-5400,0))\n",
    "plt.xlim((0,29.5))\n",
    "plt.xlabel('T  $^\\circ$C')\n",
    "plt.ylabel('Depth(m)')"
   ]
  },
  {
   "cell_type": "code",
   "execution_count": null,
   "metadata": {},
   "outputs": [],
   "source": [
    "##### logaritmic plot\n",
    "from matplotlib.colors import LogNorm\n",
    "from matplotlib import ticker, cm\n",
    "\n",
    "fig, ax = plt.subplots()\n",
    "\n",
    "ax.xaxis.tick_top()\n",
    "ax.xaxis.set_label_position('top') #set_position(pos='top')\n",
    "\n",
    "P1 = plt.semilogy(T_mm,depth,color=[1.0,0.5,0.25])\n",
    "ax.set_yscale('log')  \n",
    "figure_title='log vertical profile T, annual mean'\n",
    "plt.text(18,3.2e3,figure_title,horizontalalignment='center',fontsize=12)\n",
    "plt.ylim((5e3,0))\n",
    "plt.xlim((0,28.5))\n",
    "plt.xlabel('T $^\\circ$C')\n",
    "plt.ylabel('Depth(m)')"
   ]
  },
  {
   "cell_type": "markdown",
   "metadata": {},
   "source": [
    "Vertical S profile, linear and log"
   ]
  },
  {
   "cell_type": "code",
   "execution_count": null,
   "metadata": {},
   "outputs": [],
   "source": [
    "#Vertical Profile of Annual Mean Salinity.\n",
    "fig, ax = plt.subplots()\n",
    "\n",
    "ticks=[34.5, 34.75, 35, 35.25, 35.5, 35.75, 36]\n",
    "low=34.5\n",
    "high=35.5\n",
    "ran=0.15\n",
    "\n",
    "#P1 = plt.contourf(lonS[20,:],-depth,T_m[:,0,:],np.arange(low, high, ran),extend='both',cmap=plt.cm.Blues_r)\n",
    "\n",
    "#P1 = plt.contourf(lonS,latS,sst_m,np.arange(low, high, ran),extend='both',cmap=plt.cm.spectral)\n",
    "\n",
    "P1 = plt.plot(S_m,-depth)#np.arange(low, high, ran))\n",
    "plt.title\n",
    "ax.xaxis.tick_top()\n",
    "ax.xaxis.set_label_position('top')\n",
    "plt.xticks(np.arange(34.5,35.7,0.3))\n",
    "plt.yticks(np.arange(-5500,0,500))\n",
    "figure_title = 'S Vertical profile'\n",
    "plt.text(35.15, -5000,figure_title,horizontalalignment='center',fontsize=15)\n",
    "plt.ylim((-5400,0))\n",
    "plt.xlim((34.5,35.7))\n",
    "plt.xlabel('S g/kg')\n",
    "plt.ylabel('Depth(m)')"
   ]
  },
  {
   "cell_type": "code",
   "execution_count": null,
   "metadata": {},
   "outputs": [],
   "source": [
    "##### logaritmic plot\n",
    "from matplotlib.colors import LogNorm\n",
    "from matplotlib import ticker, cm\n",
    "\n",
    "fig, ax = plt.subplots()\n",
    "\n",
    "ax.xaxis.tick_top()\n",
    "ax.xaxis.set_label_position('top') #set_position(pos='top')\n",
    "\n",
    "P1 = plt.semilogy(S_m,depth,color=[1.0,0.5,0.25])\n",
    "ax.set_yscale('log')  \n",
    "figure_title = 'log. vertical profile S, annual mean'\n",
    "plt.text(35.3,3.2e3,figure_title,horizontalalignment='center',fontsize=12)\n",
    "plt.ylim((5e3,0))\n",
    "plt.xlim((34.5,35.7))\n",
    "plt.xlabel('g/kg')\n",
    "plt.ylabel('Depth(m)')"
   ]
  },
  {
   "cell_type": "markdown",
   "metadata": {},
   "source": [
    "Vertical DIN profile, linear and log"
   ]
  },
  {
   "cell_type": "code",
   "execution_count": null,
   "metadata": {},
   "outputs": [],
   "source": [
    "#Vertical Profile of Annual Mean DIN.\n",
    "fig, ax = plt.subplots()\n",
    "\n",
    "ticks=[0.22, 0.26, 0.3, 0.34, 0.38, 0.42, 0.46, 0.5, 0.54,0.58, 0.62,0.64] \n",
    "low=0.2\n",
    "high=36\n",
    "ran=0.02\n",
    "\n",
    "P1 = plt.plot(DIN_m,-depth)\n",
    "plt.title\n",
    "ax.xaxis.tick_top()\n",
    "ax.xaxis.set_label_position('top') #set_position(pos='top')\n",
    "plt.xticks(np.arange(0.2,37,3))\n",
    "plt.yticks(np.arange(-5000,0,500))\n",
    "figure_title = 'DIN Vertical profile, annual mean'\n",
    "plt.text(18, -4700,figure_title,horizontalalignment='center',fontsize=12)\n",
    "plt.ylim((-5000,0))\n",
    "plt.xlim((0.18,37))\n",
    "plt.xlabel('DIN, mmol N/m$^3$')\n",
    "plt.ylabel('Depth(m)')"
   ]
  },
  {
   "cell_type": "code",
   "execution_count": 81,
   "metadata": {
    "collapsed": true,
    "scrolled": true
   },
   "outputs": [],
   "source": [
    "#NIN_nan = np.argwhere(np.isnan(DIN_m))\n",
    "#print NIN_nan\n",
    "#DIN_m1 = np.delete(DIN_m,NIN_nan)\n",
    "#print DIN_m1\n",
    "#depth_1=np.delete(depth,NIN_nan)\n",
    "#print depth_1"
   ]
  },
  {
   "cell_type": "code",
   "execution_count": null,
   "metadata": {},
   "outputs": [],
   "source": [
    "##### logaritmic plot\n",
    "from matplotlib.colors import LogNorm\n",
    "from matplotlib import ticker, cm\n",
    "\n",
    "fig, ax = plt.subplots()\n",
    "\n",
    "ax.xaxis.tick_top()\n",
    "ax.xaxis.set_label_position('top') #set_position(pos='top')\n",
    "#levs = np.logspace(1,3.77,10)\n",
    "\n",
    "P1 = plt.semilogy(DIN_m,depth,color=[1.0,0.5,0.25])\n",
    "ax.set_yscale('log')  \n",
    "figure_title='log vertical profile DIN, annual mean'\n",
    "plt.text(18,3.2e3,figure_title,horizontalalignment='center',fontsize=12)\n",
    "plt.ylim((5e3,0))\n",
    "plt.xlim((0,37))\n",
    "plt.xlabel('DIN mmol N/m$^3$')\n",
    "plt.ylabel('Depth(m)')"
   ]
  },
  {
   "cell_type": "markdown",
   "metadata": {},
   "source": [
    "Chl-a Vertical profile, linear and log"
   ]
  },
  {
   "cell_type": "code",
   "execution_count": null,
   "metadata": {},
   "outputs": [],
   "source": [
    "fig, ax = plt.subplots()\n",
    "\n",
    "ticks=[0.05, 0.1, 0.15, 0.2, 0.25, 0.3, 0.35, 0.4, 0.45, 0.5, 0.55]         \n",
    "low=0.05\n",
    "high=0.52\n",
    "ran=0.01\n",
    "\n",
    "P1 = plt.plot(CHL_a_m,-depth)#np.arange(low, high, ran))\n",
    "plt.title\n",
    "ax.xaxis.tick_top()\n",
    "ax.xaxis.set_label_position('top') #set_position(pos='top')\n",
    "plt.xticks(np.arange(0,0.52,0.05))\n",
    "plt.yticks(np.arange(-400,0,50))\n",
    "figure_title = 'Chl-a Vertical profile'\n",
    "plt.text(0.35, -375,figure_title,horizontalalignment='center',fontsize=12)\n",
    "plt.ylim((-400,0))\n",
    "plt.xlim((0,0.5))\n",
    "plt.xlabel('Chl-a mg/m$^3$')\n",
    "plt.ylabel('Depth(m)')"
   ]
  },
  {
   "cell_type": "code",
   "execution_count": null,
   "metadata": {},
   "outputs": [],
   "source": [
    "##### logaritmic plot\n",
    "fig, ax = plt.subplots()\n",
    "\n",
    "ax.xaxis.tick_top()\n",
    "ax.xaxis.set_label_position('top')\n",
    "\n",
    "P1 = plt.semilogy(CHL_a_m,depth,color=[1.0,0.5,0.25])\n",
    "ax.set_yscale('log')  \n",
    "figure_title='log vertical profile Chl-a, annual mean'\n",
    "plt.text(0.3,3.2e3,figure_title,horizontalalignment='center',fontsize=12)\n",
    "plt.ylim((5e3,0))\n",
    "plt.xlim((0,0.55))\n",
    "plt.xlabel(' Chl-a mg/m$^3$')\n",
    "plt.ylabel('Depth(m)')"
   ]
  },
  {
   "cell_type": "code",
   "execution_count": null,
   "metadata": {
    "collapsed": true
   },
   "outputs": [],
   "source": []
  },
  {
   "cell_type": "code",
   "execution_count": null,
   "metadata": {
    "collapsed": true
   },
   "outputs": [],
   "source": []
  }
 ],
 "metadata": {
  "kernelspec": {
   "display_name": "Python 3",
   "language": "python",
   "name": "python3"
  },
  "language_info": {
   "codemirror_mode": {
    "name": "ipython",
    "version": 3
   },
   "file_extension": ".py",
   "mimetype": "text/x-python",
   "name": "python",
   "nbconvert_exporter": "python",
   "pygments_lexer": "ipython3",
   "version": "3.6.3"
  }
 },
 "nbformat": 4,
 "nbformat_minor": 2
}
