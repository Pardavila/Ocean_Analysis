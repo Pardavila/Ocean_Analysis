{
 "cells": [
  {
   "cell_type": "markdown",
   "metadata": {},
   "source": [
    "Horizontal plot of surface annual mean(2005)current speed (scalar)"
   ]
  },
  {
   "cell_type": "code",
   "execution_count": 7,
   "metadata": {
    "collapsed": true
   },
   "outputs": [],
   "source": [
    "#import modules \n",
    "%matplotlib notebook \n",
    "import numpy as np\n",
    "import numpy.ma as ma\n",
    "import netCDF4 as nc4\n",
    "from netCDF4 import Dataset\n",
    "import matplotlib.pyplot as plt\n",
    "from matplotlib import gridspec\n",
    "import matplotlib.colors as colors\n",
    "from matplotlib import colors, ticker, cm\n",
    "import matplotlib.patches as mpatches\n",
    "import cartopy as cart\n",
    "from mpl_toolkits.basemap import Basemap\n",
    "import xarray as xrr\n",
    "from numpy.ma import masked_where"
   ]
  },
  {
   "cell_type": "code",
   "execution_count": 8,
   "metadata": {
    "collapsed": true
   },
   "outputs": [],
   "source": [
    "#load in monthly scalar speed data from 2005:\n",
    "m_list = ['01', '02', '03', '04', '05', '06', '07', '08', '09', '10', '11', '12']\n",
    "U=np.zeros((120,180,12))\n",
    "V=np.zeros((120,180,12))\n",
    "va=0  \n",
    "\n",
    "for m in m_list:\n",
    "    fyd=nc4.Dataset('/group_workspaces/jasmin2/nemo/vol1/ORCA0083-N006/means/2005/ORCA0083-N06_2005m'+str(m)+'U.nc','r',format='NETCDF4')\n",
    "    U_=fyd.variables['uo'][0,0,1373:1493,3865:4045]\n",
    "    U[:,:,va]=U_\n",
    "    va=va+1\n",
    "\n",
    "va=0    \n",
    "for m in m_list:\n",
    "    fyd=nc4.Dataset('/group_workspaces/jasmin2/nemo/vol1/ORCA0083-N006/means/2005/ORCA0083-N06_2005m'+str(m)+'V.nc','r',format='NETCDF4')\n",
    "    V_=fyd.variables['vo'][0,0,1373:1493,3865:4045]\n",
    "    V[:,:,va]=V_\n",
    "    va=va+1    \n",
    "        \n",
    "U[np.abs(U) > 3000.] = np.nan \n",
    "U[U == 0.] = np.nan \n",
    "V[np.abs(V) > 3000.] = np.nan \n",
    "V[V == 0.] = np.nan \n",
    "\n",
    "fyd.set_auto_mask(False)\n",
    "latS=fyd.variables['nav_lat'][1373:1493,3865:4045]       \n",
    "lonS=fyd.variables['nav_lon'][1373:1493,3865:4045] "
   ]
  },
  {
   "cell_type": "code",
   "execution_count": 9,
   "metadata": {
    "collapsed": true
   },
   "outputs": [],
   "source": [
    "fyd=nc4.Dataset('/group_workspaces/jasmin2/nemo/vol1/ORCA0083-N006/domain/mask.nc','r',format='NETCDF4')\n",
    "mask=fyd.variables['tmask'][0,0,1373:1493,3865:4045]\n",
    "maskc=mask\n",
    "mask = masked_where(np.abs(mask) > 0, mask)\n",
    "mask[mask == 0] = 1"
   ]
  },
  {
   "cell_type": "code",
   "execution_count": 10,
   "metadata": {},
   "outputs": [],
   "source": [
    "U[maskc == 0]=np.nan\n",
    "V[maskc == 0]=np.nan"
   ]
  },
  {
   "cell_type": "code",
   "execution_count": null,
   "metadata": {},
   "outputs": [],
   "source": [
    "U_m=np.nanmean(U,axis=2)\n",
    "V_m=np.nanmean(V,axis=2)\n",
    "sp = np.sqrt(U_m**2+V_m**2)"
   ]
  },
  {
   "cell_type": "code",
   "execution_count": null,
   "metadata": {},
   "outputs": [],
   "source": [
    "plt.figure(figsize=(7, 5))\n",
    "plt.plot(111)\n",
    "\n",
    "ticks=[0,0.1,0.3,0.5,0.7,0.9,1.1,1.3,1.5,1.6]\n",
    "low=0.00083\n",
    "high=1.53\n",
    "ran=0.1\n",
    "\n",
    "P1 = plt.contourf(lonS,latS,sp,np.arange(low, high, ran),extend='both',\n",
    "                  cmap=plt.cm.spectral)\n",
    "plt.contourf(lonS,latS,mask,cmap=plt.cm.Greys)\n",
    "plt.contour(lonS,latS,maskc,colors='k',levels=[0], linewidths=0.5)\n",
    "\n",
    "cbar = plt.colorbar(P1)\n",
    "cbar.set_ticks(ticks)\n",
    "cbar.set_label('m/s',rotation=-90,labelpad=12)\n",
    "plt.title('surface annual mean current speed (scalar) ')\n",
    "plt.ylim((-10,0))\n",
    "plt.xlim((35,50))\n",
    "plt.xlabel('E Longitude')\n",
    "plt.ylabel('S Latitude')"
   ]
  },
  {
   "cell_type": "markdown",
   "metadata": {},
   "source": [
    "Horizontal plot of surface annual mean currents (as vectors, arrow plot)"
   ]
  },
  {
   "cell_type": "code",
   "execution_count": null,
   "metadata": {},
   "outputs": [],
   "source": [
    "plt.figure(figsize=(7, 5))\n",
    "plt.plot(111)\n",
    "\n",
    "P2 = plt.quiver(lonS[:-1:4,:-1:4],latS[:-1:4,:-1:4],U_m[:-1:4,:-1:4],V_m[:-1:4,:-1:4])\n",
    "\n",
    "plt.contourf(lonS,latS,mask,cmap=plt.cm.Greys)\n",
    "plt.contour(lonS,latS,maskc,colors='k',levels=[0],linewidths=0.5)\n",
    "\n",
    "plt.quiverkey(P2, X=0.3, Y=1.1, U=1,\n",
    "             label='Quiver key, length = 1',labelpos='E')\n",
    "plt.title('annual mean currents')\n",
    "plt.ylim((-10,0))\n",
    "plt.xlim((35,50))\n",
    "plt.xlabel('E Longitude')\n",
    "plt.ylabel('S Latitude')"
   ]
  },
  {
   "cell_type": "code",
   "execution_count": null,
   "metadata": {},
   "outputs": [],
   "source": [
    "plt.figure(figsize=(7, 5))\n",
    "plt.plot(111)\n",
    "\n",
    "P2 = plt.quiver(lonS,latS,U_m,V_m)\n",
    "plt.contourf(lonS,latS,mask,cmap=plt.cm.Greys)\n",
    "plt.contour(lonS,latS,maskc,colors='k',levels=[0], linewidths=0.5)\n",
    "\n",
    "plt.quiverkey(P2, X=0.3, Y=1.1, U=1, \n",
    "             label='Quiver key, length = 1', labelpos='E')\n",
    "\n",
    "plt.title('currents strengh and direction')\n",
    "plt.ylim((-10,0))\n",
    "plt.xlim((35,50))\n",
    "plt.xlabel('E Longitude')\n",
    "plt.ylabel('S Latitude')"
   ]
  },
  {
   "cell_type": "code",
   "execution_count": null,
   "metadata": {
    "collapsed": true
   },
   "outputs": [],
   "source": []
  }
 ],
 "metadata": {
  "kernelspec": {
   "display_name": "Python 3",
   "language": "python",
   "name": "python3"
  },
  "language_info": {
   "codemirror_mode": {
    "name": "ipython",
    "version": 3
   },
   "file_extension": ".py",
   "mimetype": "text/x-python",
   "name": "python",
   "nbconvert_exporter": "python",
   "pygments_lexer": "ipython3",
   "version": "3.6.3"
  }
 },
 "nbformat": 4,
 "nbformat_minor": 2
}
