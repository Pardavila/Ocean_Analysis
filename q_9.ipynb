{
 "cells": [
  {
   "cell_type": "markdown",
   "metadata": {},
   "source": [
    "Horizontal plot of annual mean (2005) SST which only shows values over the 10% of the total area characterized by the highest temperatures."
   ]
  },
  {
   "cell_type": "code",
   "execution_count": 1,
   "metadata": {
    "collapsed": true
   },
   "outputs": [],
   "source": [
    "%matplotlib notebook \n",
    "import numpy as np\n",
    "import pandas as pd\n",
    "import numpy.ma as ma\n",
    "import netCDF4 as nc4\n",
    "from netCDF4 import Dataset\n",
    "import matplotlib.pyplot as plt\n",
    "from matplotlib import gridspec\n",
    "import matplotlib.colors as colors\n",
    "from matplotlib import colors, ticker, cm\n",
    "import matplotlib.patches as mpatches\n",
    "import cartopy as cart\n",
    "from mpl_toolkits.basemap import Basemap\n",
    "import xarray as xrr\n",
    "from numpy.ma import masked_where\n",
    "import copy"
   ]
  },
  {
   "cell_type": "code",
   "execution_count": null,
   "metadata": {},
   "outputs": [],
   "source": [
    "#\n",
    "fyd=nc4.Dataset('/group_workspaces/jasmin2/nemo/vol1/ORCA0083-N006/domain/mesh_hgr.nc','r',format='NETCDF4')\n",
    "e1t=fyd.variables['e1t'][0,1373:1493,3865:4045]\n",
    "e2t=fyd.variables['e2t'][0,1373:1493,3865:4045]    \n",
    "areas = e1t*e2t\n",
    "\n",
    "fyd=nc4.Dataset('/group_workspaces/jasmin2/nemo/vol1/ORCA0083-N006/domain/mask.nc','r',format='NETCDF4')\n",
    "mask = fyd.variables['tmask'][0,0,1373:1493,3865:4045]\n",
    "\n",
    "m_area=areas*mask\n",
    "area_tot=np.sum(m_area,dtype=np.float32)\n",
    "area_tot_10 = area_tot*0.1\n",
    "area_tot_10"
   ]
  },
  {
   "cell_type": "code",
   "execution_count": 28,
   "metadata": {
    "collapsed": true
   },
   "outputs": [],
   "source": [
    "#load in monthly SST data from 2005:\n",
    "m_list = ['01', '02', '03', '04', '05', '06', '07', '08', '09', '10', '11', '12']\n",
    "sst=np.zeros((120,180,12))\n",
    "va=0\n",
    "for m in m_list:\n",
    "    fyd=nc4.Dataset('/group_workspaces/jasmin2/nemo/vol1/ORCA0083-N006/means/2005/ORCA0083-N06_2005m'+str(m)+'T.nc','r',format='NETCDF4')\n",
    "    sst_=fyd.variables['sst'][0,1373:1493,3865:4045]\n",
    "    sst[:,:,va]=sst_\n",
    "    va=va+1\n",
    "    \n",
    "sst[np.abs(sst) > 3000.] = np.nan \n",
    "sst[sst == 0.] = np.nan\n",
    "#mask = masked_where(np.abs(mask) > 0, mask)\n",
    "#mask[mask == 0] = 1"
   ]
  },
  {
   "cell_type": "code",
   "execution_count": 29,
   "metadata": {
    "collapsed": true
   },
   "outputs": [],
   "source": [
    "latS=fyd.variables['nav_lat'][1373:1493,3865:4045]       \n",
    "lonS=fyd.variables['nav_lon'][1373:1493,3865:4045] "
   ]
  },
  {
   "cell_type": "code",
   "execution_count": null,
   "metadata": {},
   "outputs": [],
   "source": [
    "sst_m=np.nanmean(sst,axis=2)\n",
    "sst_or=np.sort(sst_m,axis=None)\n",
    "sst_or1 = sst_or[::-1]\n",
    "sst_or2=sst_or1[np.isfinite(sst_or1)]\n",
    "sst_or2\n",
    "sst_or3=sst_or2[:]"
   ]
  },
  {
   "cell_type": "code",
   "execution_count": null,
   "metadata": {},
   "outputs": [],
   "source": [
    "s = e1t[np.where(sst_m == np.nanmax(sst_m))]\n",
    "dd = e2t[np.where(sst_m == np.nanmax(sst_m))]  \n",
    "s*dd"
   ]
  },
  {
   "cell_type": "code",
   "execution_count": null,
   "metadata": {},
   "outputs": [],
   "source": [
    "ar = e1t[np.where(sst_m == np.nanmax(sst_m))]*e2t[np.where(sst_m == np.nanmax(sst_m))]\n",
    "#ar\n",
    "sst_m1 = copy.deepcopy(sst_m)"
   ]
  },
  {
   "cell_type": "code",
   "execution_count": 33,
   "metadata": {
    "collapsed": true
   },
   "outputs": [],
   "source": [
    "masimo = np.zeros(14297)\n",
    "area_m = np.zeros(14297)\n",
    "i=0\n",
    "\n",
    "while (np.sum(area_m) < area_tot_10):\n",
    "        masimo[i] = np.nanmax(sst_m1)\n",
    "        area_mm = e1t[np.where(sst_m1 == np.nanmax(sst_m1))]*e2t[np.where(sst_m1 == np.nanmax(sst_m1))]\n",
    "        area_mm = area_mm[0]\n",
    "        #np.append(area_m,area_mm)\n",
    "        area_m[i]=area_mm\n",
    "        sst_m1[sst_m1 == np.nanmax(sst_m1)]=0\n",
    "        i=i+1\n",
    "\n",
    "SST = masimo[masimo !=0]"
   ]
  },
  {
   "cell_type": "code",
   "execution_count": null,
   "metadata": {},
   "outputs": [],
   "source": [
    "#np.sum(area_m)\n",
    "#area_tot_10"
   ]
  },
  {
   "cell_type": "code",
   "execution_count": 67,
   "metadata": {
    "collapsed": true,
    "scrolled": false
   },
   "outputs": [],
   "source": [
    "#Masks\n",
    "#Continent and islands\n",
    "fyd=nc4.Dataset('/group_workspaces/jasmin2/nemo/vol1/ORCA0083-N006/domain/mask.nc','r',format='NETCDF4')\n",
    "maskc=fyd.variables['tmask'][0,0,1373:1493,3865:4045]\n",
    "maskc = masked_where(np.abs(maskc) > 0, maskc)\n",
    "maskc[maskc == 0] = 1\n",
    "\n",
    "#Temperatures\n",
    "mask = np.ma.masked_less(sst_m, 27.831504185994465)\n",
    "#np.where(SST == np.min(SST))\n",
    "#np.min(SST)"
   ]
  },
  {
   "cell_type": "code",
   "execution_count": null,
   "metadata": {},
   "outputs": [],
   "source": [
    "#2D annual mean SST surface field \n",
    "\n",
    "plt.figure(figsize=(7, 5))\n",
    "plt.plot(111)\n",
    "\n",
    "#ticks=[26.5,26.75, 27, 27.25, 27.5, 27.75, 28, 28.25]\n",
    "low=27.83\n",
    "high=28.1\n",
    "ran=0.01\n",
    "\n",
    "P1 = plt.contourf(lonS,latS,sst_m,np.arange(low, high, ran),extend='both',\n",
    "                  cmap=plt.cm.spectral)\n",
    "#plt.contourf(lonS,latS,mask,vmin=27, vmax=30,cmap=plt.cm.Greys)\n",
    "plt.contourf(lonS,latS,mask,cmap=plt.cm.spectral)\n",
    "\n",
    "\n",
    "plt.title('Annual Mean SST - 2005')\n",
    "plt.ylim((-10,0))\n",
    "plt.xlim((35,50))\n",
    "plt.xlabel('E Longitude')\n",
    "plt.ylabel('S Latitude')"
   ]
  },
  {
   "cell_type": "code",
   "execution_count": null,
   "metadata": {},
   "outputs": [],
   "source": [
    "#2D annual mean SST surface field \n",
    "plt.figure(figsize=(7, 5))\n",
    "plt.plot(111)\n",
    "\n",
    "ticks=[26.25, 26.5, 26.75, 27, 27.25, 27.5, 27.75, 28]\n",
    "low=26.4\n",
    "high=28.1\n",
    "ran=0.025\n",
    "\n",
    "P1 = plt.contourf(lonS,latS,sst_m,np.arange(low, high, ran),extend='both',\n",
    "                  cmap=plt.cm.spectral)\n",
    "\n",
    "\n",
    "plt.contourf(lonS,latS,maskc,vmin=0,vmax=2,cmap=plt.cm.Greys)\n",
    "\n",
    "cbar = plt.colorbar(P1)\n",
    "#plt.contour(lonS,latS,mask,colors='k',levels=[10], linewidths=0.5)\n",
    "cbar.set_ticks(ticks)\n",
    "cbar.set_label('$^\\circ$C',rotation=0,labelpad=14)\n",
    "plt.title('Annual Mean SST - 2005')\n",
    "plt.ylim((-10,0))\n",
    "plt.xlim((35,50))\n",
    "plt.xlabel('E Longitude')\n",
    "plt.ylabel('S Latitude')"
   ]
  },
  {
   "cell_type": "code",
   "execution_count": null,
   "metadata": {},
   "outputs": [],
   "source": [
    "#2D annual mean SST surface field \n",
    "\n",
    "plt.figure(figsize=(7, 5))\n",
    "plt.plot(111)\n",
    "\n",
    "ticks=[27.85, 27.9,27.95,28,28.05]\n",
    "low=27.83\n",
    "high=28.1\n",
    "ran=0.025\n",
    "\n",
    "P1 = plt.contourf(lonS,latS,sst_m,np.arange(np.min(SST),np.max(SST),0.01),\n",
    "                  extend='both',cmap=plt.cm.spectral)\n",
    "\n",
    "cbar = plt.colorbar(P1)\n",
    "cbar.set_ticks(ticks)\n",
    "cbar.set_label('$^\\circ$C',rotation=0,labelpad=14)\n",
    "plt.title('10% of the area with highest annual Mean SST - 2005',fontsize=10)\n",
    "plt.ylim((-10,0))\n",
    "plt.xlim((35,50))\n",
    "plt.xlabel('E Longitude')\n",
    "plt.ylabel('S Latitude')"
   ]
  },
  {
   "cell_type": "code",
   "execution_count": null,
   "metadata": {
    "collapsed": true
   },
   "outputs": [],
   "source": []
  },
  {
   "cell_type": "code",
   "execution_count": null,
   "metadata": {
    "collapsed": true
   },
   "outputs": [],
   "source": []
  }
 ],
 "metadata": {
  "kernelspec": {
   "display_name": "Python 3",
   "language": "python",
   "name": "python3"
  },
  "language_info": {
   "codemirror_mode": {
    "name": "ipython",
    "version": 3
   },
   "file_extension": ".py",
   "mimetype": "text/x-python",
   "name": "python",
   "nbconvert_exporter": "python",
   "pygments_lexer": "ipython3",
   "version": "3.6.3"
  }
 },
 "nbformat": 4,
 "nbformat_minor": 2
}
