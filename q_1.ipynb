{
 "cells": [
  {
   "cell_type": "markdown",
   "metadata": {},
   "source": [
    "2D surface fields of annual mean temperature, salinity, DIN, Chl-a(Region \n",
    "0-10 S,35 -50 E) for 2005. For Chl-a, two types of figures: using linear and log scale of chlorophyll. For each variable, it was calculated the area-averaged value taking into account that the grid is irregular."
   ]
  },
  {
   "cell_type": "code",
   "execution_count": 1,
   "metadata": {
    "collapsed": true
   },
   "outputs": [],
   "source": [
    "#import modules \n",
    "#allows plots to appear beneath cell\n",
    "%matplotlib notebook \n",
    "import numpy as np\n",
    "import pandas as pd\n",
    "import numpy.ma as ma\n",
    "import netCDF4 as nc4\n",
    "from netCDF4 import Dataset\n",
    "import matplotlib.pyplot as plt\n",
    "from matplotlib import gridspec\n",
    "import matplotlib.colors as colors\n",
    "from matplotlib import colors, ticker, cm\n",
    "import matplotlib.patches as mpatches\n",
    "import cartopy as cart\n",
    "from mpl_toolkits.basemap import Basemap\n",
    "import xarray as xrr\n",
    "from numpy.ma import masked_where"
   ]
  },
  {
   "cell_type": "code",
   "execution_count": 3,
   "metadata": {
    "collapsed": true
   },
   "outputs": [],
   "source": [
    "#load in monthly SST and SSS data from 2005:\n",
    "m_list = ['01', '02', '03', '04', '05', '06', '07', '08', '09', '10', '11', '12']\n",
    "sst=np.zeros((120,180,12))\n",
    "sss=np.zeros((120,180,12))\n",
    "va=0\n",
    "for m in m_list:\n",
    "    fyd=nc4.Dataset('/group_workspaces/jasmin2/nemo/vol1/ORCA0083-N006/means/2005/ORCA0083-N06_2005m'+str(m)+'T.nc','r',format='NETCDF4')\n",
    "    sst_=fyd.variables['sst'][0,1373:1493,3865:4045]\n",
    "    sst[:,:,va]=sst_\n",
    "    sss_=fyd.variables['sss'][0,1373:1493,3865:4045]\n",
    "    sss[:,:,va]=sss_\n",
    "    va=va+1\n",
    "    \n",
    "sst[np.abs(sst) > 3000.] = np.nan \n",
    "sst[sst == 0.] = np.nan \n",
    "sss[np.abs(sss) > 3000.] = np.nan \n",
    "sss[sss == 0.] = np.nan   "
   ]
  },
  {
   "cell_type": "code",
   "execution_count": 2,
   "metadata": {
    "collapsed": true
   },
   "outputs": [],
   "source": [
    "#load of Dissolved Inorganic Nitrogen (DIN) and Chl-a concentration (CHD and CHN) data:\n",
    "m_list = ['01', '02', '03', '04', '05', '06', '07', '08', '09', '10', '11', '12']\n",
    "din=np.zeros((120,180,12))\n",
    "chlND=np.zeros((120,180,12))\n",
    "chlD=np.zeros((120,180,12))\n",
    "va=0\n",
    "for m in m_list:\n",
    "    fyd=nc4.Dataset('/group_workspaces/jasmin2/nemo/vol1/ORCA0083-N006/medusa/2005/ORCA0083-N06_2005m'+str(m)+'P.nc','r',format='NETCDF4')\n",
    "    din_=fyd.variables['DIN'][0,0,1373:1493,3865:4045]\n",
    "    din[:,:,va]=din_\n",
    "    chl_nd=fyd.variables['CHN'][0,0,1373:1493,3865:4045]\n",
    "    chlND[:,:,va]=chl_nd\n",
    "    chl_d=fyd.variables['CHD'][0,0,1373:1493,3865:4045]\n",
    "    chlD[:,:,va]=chl_d\n",
    "    va=va+1\n",
    "    \n",
    "din[np.abs(din) > 3000.] = np.nan \n",
    "din[din == 0.] = np.nan \n",
    "chlND[np.abs(chlND) > 3000.] = np.nan \n",
    "chlND[chlND == 0.] = np.nan \n",
    "chlD[np.abs(chlD) > 3000.] = np.nan \n",
    "chlD[chlD == 0.] = np.nan \n",
    "\n",
    "chl_a = chlND + chlD\n",
    "\n",
    "#din=np.zeros((1,1,120,179,12))\n",
    "#chl=np.zeros((1,1,120,179,12))"
   ]
  },
  {
   "cell_type": "code",
   "execution_count": 4,
   "metadata": {
    "collapsed": true
   },
   "outputs": [],
   "source": [
    "latS=fyd.variables['nav_lat'][1373:1493,3865:4045]       \n",
    "lonS=fyd.variables['nav_lon'][1373:1493,3865:4045]        "
   ]
  },
  {
   "cell_type": "code",
   "execution_count": 5,
   "metadata": {
    "collapsed": true
   },
   "outputs": [],
   "source": [
    "#load in bathymetry \n",
    "fyd=nc4.Dataset('/group_workspaces/jasmin2/nemo/vol1/ORCA0083-N006/domain/bathymetry_ORCA12_V3.3.nc','r',format='NETCDF4')\n",
    "bathy=fyd.variables['Bathymetry'][1373:1493,3865:4045]\n",
    "# load in mask and set land to = 1 and ocean = masked for land contour.\n",
    "fyd=nc4.Dataset('/group_workspaces/jasmin2/nemo/vol1/ORCA0083-N006/domain/mask.nc','r',format='NETCDF4')\n",
    "mask=fyd.variables['tmask'][0,0,1373:1493,3865:4045]\n",
    "maskc=mask\n",
    "mask = masked_where(np.abs(mask) > 0, mask)\n",
    "mask[mask == 0] = 1"
   ]
  },
  {
   "cell_type": "code",
   "execution_count": null,
   "metadata": {
    "collapsed": true
   },
   "outputs": [],
   "source": [
    "#SST annual mean\n",
    "sst_m=np.nanmean(sst,axis=2)\n",
    "\n",
    "#SSS annual mean \n",
    "sss_m=np.nanmean(sss,axis=2)\n",
    "\n",
    "#DIN annual mean\n",
    "din_m=np.nanmean(din,axis=2)\n",
    "\n",
    "#CHL annual mean\n",
    "chl_m=np.nanmean(chl_a,axis=2)"
   ]
  },
  {
   "cell_type": "code",
   "execution_count": null,
   "metadata": {
    "collapsed": true
   },
   "outputs": [],
   "source": [
    "#2D annual mean SST surface field \n",
    "\n",
    "ticks=[26.75, 27, 27.25, 27.5, 27.75, 28, 28.25, 28.5]\n",
    "low=26.75\n",
    "high=28.5\n",
    "ran=0.025\n",
    "\n",
    "plt.figure(figsize=(7, 5))\n",
    "plt.plot(111)\n",
    "\n",
    "P1 = plt.contourf(lonS,latS,sst_m,np.arange(low, high, ran),extend='both',cmap=plt.cm.spectral)\n",
    "plt.contourf(lonS,latS,mask,vmin=0, vmax=2,cmap=plt.cm.Greys)\n",
    "cbar = plt.colorbar(P1)\n",
    "#plt.contour(lonS,latS,bathy,colors='k',levels=[200])\n",
    "plt.contour(lonS,latS,maskc,colors='k',levels=[0], linewidths=0.5)\n",
    "cbar.set_ticks(ticks)\n",
    "cbar.set_label('$^\\circ$ C',rotation=0)\n",
    "plt.title('Annual Mean SST - 2005')\n",
    "plt.ylim((-10,0))\n",
    "plt.xlim((35,50))\n",
    "plt.xlabel('E Longitude')\n",
    "plt.ylabel('S Latitude')"
   ]
  },
  {
   "cell_type": "code",
   "execution_count": null,
   "metadata": {
    "collapsed": true
   },
   "outputs": [],
   "source": [
    "#2D annual mean SSS surface field \n",
    "\n",
    "ticks=[33.25, 33.5, 33.75, 34, 34.25, 34.5, 34.75, 35, 35.25, 35.5, 35.75, 36]\n",
    "low=33.25\n",
    "high=36\n",
    "ran=0.025\n",
    "\n",
    "plt.figure(figsize=(7, 5))\n",
    "plt.plot(111)\n",
    "\n",
    "P1 = plt.contourf(lonS,latS,sss_m,np.arange(low, high, ran),extend='both',cmap=plt.cm.spectral)\n",
    "plt.contourf(lonS,latS,mask,vmin=0, vmax=2,cmap=plt.cm.Greys)\n",
    "cbar = plt.colorbar(P1)\n",
    "#plt.contour(lonS,latS,bathy,colors='k',levels=[200])\n",
    "plt.contour(lonS,latS,maskc,colors='k',levels=[0], linewidths=0.5)\n",
    "cbar.set_ticks(ticks)\n",
    "cbar.set_label('g/kg',rotation=0,labelpad=12)\n",
    "plt.title('Annual Mean SSS - 2005')\n",
    "plt.ylim((-10,0))\n",
    "plt.xlim((35,50))\n",
    "plt.xlabel('E Longitude')\n",
    "plt.ylabel('S Latitude')"
   ]
  },
  {
   "cell_type": "code",
   "execution_count": null,
   "metadata": {
    "collapsed": true
   },
   "outputs": [],
   "source": [
    "#2D annual mean DIN surface field \n",
    "\n",
    "ticks=[0.04, 0.06, 0.10, 0.14, 0.18, \n",
    "      0.22, 0.26, 0.3, 0.34, 0.38, 0.42, 0.46, 0.5, 0.54,0.58] \n",
    "       \n",
    "low=0.052\n",
    "high=0.61\n",
    "ran=0.01\n",
    "\n",
    "plt.figure(figsize=(7, 5))\n",
    "plt.plot(111)\n",
    "\n",
    "P1 = plt.contourf(lonS,latS,din_m,np.arange(low, high, ran),extend='both',cmap=plt.cm.spectral)\n",
    "plt.contourf(lonS,latS,mask,vmin=0, vmax=2,cmap=plt.cm.Greys)\n",
    "cbar = plt.colorbar(P1)\n",
    "#plt.contour(lonS,latS,bathy,colors='k',levels=[200])\n",
    "plt.contour(lonS,latS,maskc,colors='k',levels=[0], linewidths=0.5)\n",
    "cbar.set_ticks(ticks)\n",
    "cbar.set_label('mmol N/m$^3$',rotation=-90,labelpad=14)\n",
    "plt.title('Annual Mean DIN - 2005')\n",
    "plt.ylim((-10,0))\n",
    "plt.xlim((35,50))\n",
    "plt.xlabel('E Longitude')\n",
    "plt.ylabel('S Latitude')"
   ]
  },
  {
   "cell_type": "code",
   "execution_count": null,
   "metadata": {
    "collapsed": true
   },
   "outputs": [],
   "source": [
    "#2D annual mean Chl-a surface field \n",
    "\n",
    "ticks=[0.05, 0.1, 0.15, 0.2, 0.25, 0.3, 0.35, 0.4, 0.45, 0.5, 0.55, 0.6]         \n",
    "low=0.05\n",
    "high=0.63\n",
    "ran=0.01\n",
    "\n",
    "plt.figure(figsize=(7, 5))\n",
    "plt.plot(111)\n",
    "\n",
    "P1 = plt.contourf(lonS,latS,chl_m,np.arange(low, high, ran),extend='both',cmap=plt.cm.spectral)\n",
    "plt.contourf(lonS,latS,mask,vmin=0, vmax=2,cmap=plt.cm.Greys)\n",
    "cbar = plt.colorbar(P1)\n",
    "#plt.contour(lonS,latS,bathy,colors='k',levels=[200])\n",
    "plt.contour(lonS,latS,maskc,colors='k',levels=[0], linewidths=0.5)\n",
    "cbar.set_ticks(ticks)\n",
    "cbar.set_label('mg/m$^3$',rotation=-90,labelpad=14)\n",
    "plt.title('Annual Mean Chl-a 2005')\n",
    "plt.ylim((-10,0))\n",
    "plt.xlim((35,50))\n",
    "plt.xlabel('E Longitude')\n",
    "plt.ylabel('S Latitude')"
   ]
  },
  {
   "cell_type": "code",
   "execution_count": null,
   "metadata": {},
   "outputs": [],
   "source": [
    "#For Chl-a, also a logaritmic plot\n",
    "\n",
    "from matplotlib.colors import LogNorm\n",
    "from matplotlib import ticker, cm\n",
    "\n",
    "low=0.065\n",
    "high=0.65\n",
    "ran=0.01\n",
    "\n",
    "plt.figure(figsize=(5, 4))\n",
    "plt.plot(111)\n",
    "\n",
    "#levs = np.logspace(-1.2,0.3,6)\n",
    "levs = np.logspace(-1.11,-0.21,7)\n",
    "\n",
    "P1 = plt.contourf(lonS,latS,chl_m,levs,norm=LogNorm())\n",
    "plt.contourf(lonS,latS,mask,vmin=0,vmax=2,cmap=plt.cm.Greys)\n",
    "\n",
    "cbar = plt.colorbar(P1,orientation='vertical',\n",
    "                    norm=LogNorm(),ticks=[8e-2,1e-1,2.5e-1,6e-1])\n",
    "#cbar.ax.set_yticklabels(['{:.0e}'.format(x) for x in levs])\n",
    "                    \n",
    "cbar.set_label('mg/m$^3$',rotation=0,labelpad=14)\n",
    "plt.title('Annual Mean Chl-a (log), 2005')\n",
    "plt.ylim((-10,0))\n",
    "plt.xlim((35,50))\n",
    "plt.xlabel('E Longitude')\n",
    "plt.ylabel('S Latitude')"
   ]
  },
  {
   "cell_type": "code",
   "execution_count": null,
   "metadata": {},
   "outputs": [],
   "source": [
    "from matplotlib.colors import LogNorm\n",
    "import matplotlib.ticker as ticker\n",
    "\n",
    "low=0.065\n",
    "high=0.65\n",
    "ran=0.01\n",
    "\n",
    "plt.figure(figsize=(5, 4))\n",
    "plt.plot(111)\n",
    "plt.rcParams['text.usetex'] = True\n",
    "\n",
    "levs = np.logspace(-1.11,-0.21,8)\n",
    "\n",
    "P1 = plt.contourf(lonS,latS,log)#levs norm=LogNorm())\n",
    "plt.contourf(lonS,latS,mask,vmin=0, vmax=2,cmap=plt.cm.Greys)\n",
    "\n",
    "cbar = plt.colorbar(P1,orientation='vertical',spacing='proportional',\n",
    "                    norm=LogNorm(),format='$10^{%.2f}$',\n",
    "                    ticks=[-1.11,-1,-0.75,-0.5,-0.25, -0.2])\n",
    "\n",
    "cbar.set_label('mg/m$^3$',rotation=0,labelpad=13)\n",
    "plt.title('Annual Mean Chl-a (log), 2005')\n",
    "plt.ylim((-10,0))\n",
    "plt.xlim((35,50))\n",
    "plt.xlabel('E Longitude')\n",
    "plt.ylabel('S Latitude')"
   ]
  },
  {
   "cell_type": "code",
   "execution_count": 19,
   "metadata": {},
   "outputs": [
    {
     "name": "stdout",
     "output_type": "stream",
     "text": [
      "The sst area averaged value for this region in 2005 is:\n",
      "27.5086490369 °C\n",
      "The sss area averaged value for this region in 2005 is:\n",
      "35.401791626 g/kg\n",
      "The DIN area averaged value for this region in 2005 is:\n",
      "0.204391542228 mmol N/m³\n",
      "The Chl-a area averaged value for this region in 2005 is:\n",
      "0.261250581259 mg/m³\n"
     ]
    }
   ],
   "source": [
    "#For each variable, the area-averaged value\n",
    "#taking into account that the grid is irregular.\n",
    "\n",
    "fyd=nc4.Dataset('/group_workspaces/jasmin2/nemo/vol1/ORCA0083-N006/domain/mesh_hgr.nc','r',format='NETCDF4')\n",
    "e1t=fyd.variables['e1t'][0,1373:1493,3865:4045]\n",
    "e2t=fyd.variables['e2t'][0,1373:1493,3865:4045]    \n",
    "areas = e1t*e2t\n",
    "\n",
    "fyd=nc4.Dataset('/group_workspaces/jasmin2/nemo/vol1/ORCA0083-N006/domain/mask.nc','r',format='NETCDF4')\n",
    "mask = fyd.variables['tmask'][0,0,1373:1493,3865:4045]\n",
    "\n",
    "m_area=areas*mask\n",
    "area_tot=np.sum(m_area,dtype=np.float32)\n",
    "\n",
    "#sst\n",
    "average_sst = np.nansum(m_area*sst_m)/area_tot\n",
    "print 'The sst area averaged value for this region in 2005 is:\\n',average_sst,'°C'\n",
    "\n",
    "#sss\n",
    "average_sss = np.nansum(m_area*sss_m)/area_tot\n",
    "print 'The sss area averaged value for this region in 2005 is:\\n',average_sss,'g/kg'\n",
    "\n",
    "#din\n",
    "average_din = np.nansum(m_area*din_m)/area_tot\n",
    "print 'The DIN area averaged value for this region in 2005 is:\\n',average_din,'mmol N/m³'\n",
    "\n",
    "#chl-a\n",
    "average_chl = np.nansum(m_area*chl_m)/area_tot\n",
    "print 'The Chl-a area averaged value for this region in 2005 is:\\n',average_chl,'mg/m³'\n"
   ]
  }
 ],
 "metadata": {
  "kernelspec": {
   "display_name": "Python 3",
   "language": "python",
   "name": "python3"
  },
  "language_info": {
   "codemirror_mode": {
    "name": "ipython",
    "version": 3
   },
   "file_extension": ".py",
   "mimetype": "text/x-python",
   "name": "python",
   "nbconvert_exporter": "python",
   "pygments_lexer": "ipython3",
   "version": "3.6.3"
  }
 },
 "nbformat": 4,
 "nbformat_minor": 2
}
